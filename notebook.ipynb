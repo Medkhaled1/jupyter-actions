{
 "cells": [
  {
   "cell_type": "code",
   "execution_count": null,
   "metadata": {
    "execution": {
     "iopub.execute_input": "2020-09-25T18:11:52.920084Z",
     "iopub.status.busy": "2020-09-25T18:11:52.919078Z",
     "iopub.status.idle": "2020-09-25T18:11:53.283685Z",
     "shell.execute_reply": "2020-09-25T18:11:53.284568Z"
    }
   },
   "outputs": [],
   "source": [
    "import requests"
   ]
  },
  {
   "cell_type": "code",
   "execution_count": null,
   "metadata": {
    "execution": {
     "iopub.execute_input": "2020-09-25T18:11:53.291182Z",
     "iopub.status.busy": "2020-09-25T18:11:53.289760Z",
     "iopub.status.idle": "2020-09-25T18:11:54.307628Z",
     "shell.execute_reply": "2020-09-25T18:11:54.308350Z"
    }
   },
   "outputs": [],
   "source": [
    "requests.get('http://wikipedia.org')"
   ]
  },
  {
   "cell_type": "code",
   "execution_count": null,
   "metadata": {},
   "outputs": [],
   "source": []
  }
 ],
 "metadata": {
  "kernelspec": {
   "display_name": "Python 3",
   "language": "python",
   "name": "python3"
  },
  "language_info": {
   "codemirror_mode": {
    "name": "ipython",
    "version": 3
   },
   "file_extension": ".py",
   "mimetype": "text/x-python",
   "name": "python",
   "nbconvert_exporter": "python",
   "pygments_lexer": "ipython3",
   "version": "3.8.5"
  }
 },
 "nbformat": 4,
 "nbformat_minor": 4
}
