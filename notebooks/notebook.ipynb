{
 "cells": [
  {
   "cell_type": "code",
   "execution_count": null,
   "metadata": {
    "execution": {
     "iopub.execute_input": "2020-09-25T18:33:28.288825Z",
     "iopub.status.busy": "2020-09-25T18:33:28.286626Z",
     "iopub.status.idle": "2020-09-25T18:33:28.637065Z",
     "shell.execute_reply": "2020-09-25T18:33:28.637780Z"
    }
   },
   "outputs": [],
   "source": [
    "import requests"
   ]
  },
  {
   "cell_type": "code",
   "execution_count": null,
   "metadata": {
    "execution": {
     "iopub.execute_input": "2020-09-25T18:33:28.644062Z",
     "iopub.status.busy": "2020-09-25T18:33:28.643134Z",
     "iopub.status.idle": "2020-09-25T18:33:29.645990Z",
     "shell.execute_reply": "2020-09-25T18:33:29.646609Z"
    }
   },
   "outputs": [],
   "source": [
    "requests.get('http://wikipedia.org')"
   ]
  },
  {
   "cell_type": "code",
   "execution_count": null,
   "metadata": {},
   "outputs": [],
   "source": []
  }
 ],
 "metadata": {
  "kernelspec": {
   "display_name": "Python 3",
   "language": "python",
   "name": "python3"
  },
  "language_info": {
   "codemirror_mode": {
    "name": "ipython",
    "version": 3
   },
   "file_extension": ".py",
   "mimetype": "text/x-python",
   "name": "python",
   "nbconvert_exporter": "python",
   "pygments_lexer": "ipython3",
   "version": "3.8.5"
  }
 },
 "nbformat": 4,
 "nbformat_minor": 4
}
