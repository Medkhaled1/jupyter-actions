{
 "cells": [
  {
   "cell_type": "code",
   "execution_count": null,
   "metadata": {
    "execution": {
     "iopub.execute_input": "2020-09-25T18:55:03.499060Z",
     "iopub.status.busy": "2020-09-25T18:55:03.497961Z",
     "iopub.status.idle": "2020-09-25T18:55:03.845042Z",
     "shell.execute_reply": "2020-09-25T18:55:03.845975Z"
    }
   },
   "outputs": [],
   "source": [
    "import requests"
   ]
  },
  {
   "cell_type": "code",
   "execution_count": null,
   "metadata": {
    "execution": {
     "iopub.execute_input": "2020-09-25T18:55:03.852107Z",
     "iopub.status.busy": "2020-09-25T18:55:03.851281Z",
     "iopub.status.idle": "2020-09-25T18:55:04.578731Z",
     "shell.execute_reply": "2020-09-25T18:55:04.579353Z"
    }
   },
   "outputs": [],
   "source": [
    "requests.get('http://wikipedia.org')"
   ]
  },
  {
   "cell_type": "code",
   "execution_count": null,
   "metadata": {},
   "outputs": [],
   "source": []
  }
 ],
 "metadata": {
  "kernelspec": {
   "display_name": "Python 3",
   "language": "python",
   "name": "python3"
  },
  "language_info": {
   "codemirror_mode": {
    "name": "ipython",
    "version": 3
   },
   "file_extension": ".py",
   "mimetype": "text/x-python",
   "name": "python",
   "nbconvert_exporter": "python",
   "pygments_lexer": "ipython3",
   "version": "3.8.5"
  }
 },
 "nbformat": 4,
 "nbformat_minor": 4
}
